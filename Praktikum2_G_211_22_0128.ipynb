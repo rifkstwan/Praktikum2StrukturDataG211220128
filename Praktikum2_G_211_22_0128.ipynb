{
  "nbformat": 4,
  "nbformat_minor": 0,
  "metadata": {
    "colab": {
      "provenance": []
    },
    "kernelspec": {
      "name": "python3",
      "display_name": "Python 3"
    },
    "language_info": {
      "name": "python"
    }
  },
  "cells": [
    {
      "cell_type": "code",
      "execution_count": 1,
      "metadata": {
        "colab": {
          "base_uri": "https://localhost:8080/"
        },
        "id": "UN3tyFkMoe14",
        "outputId": "69edb3f0-3be6-4250-de4b-2593b749c9b3"
      },
      "outputs": [
        {
          "output_type": "stream",
          "name": "stdout",
          "text": [
            "Data Mahasiswa:\n",
            "NIM: G.211.22.0128\n",
            "Nama: Rifki Setiawan\n",
            "Usia: 19\n",
            "\n",
            "Data Mahasiswa (Dictionary):\n",
            "NIM: G.211.22.0128\n",
            "Nama: Rifki Setiawan\n",
            "Usia: 19\n"
          ]
        }
      ],
      "source": [
        "# Tuple\n",
        "mahasiswa = (\"G.211.22.0128\", \"Rifki Setiawan\", 19)\n",
        "print(\"Data Mahasiswa:\")\n",
        "print(\"NIM:\", mahasiswa[0])\n",
        "print(\"Nama:\", mahasiswa[1])\n",
        "print(\"Usia:\", mahasiswa[2])\n",
        "\n",
        "# Dictionary\n",
        "mahasiswa_dict = {\"NIM\": \"G.211.22.0128\", \"Nama\": \"Rifki Setiawan\", \"Usia\": 19}\n",
        "print(\"\\nData Mahasiswa (Dictionary):\")\n",
        "print(\"NIM:\", mahasiswa_dict[\"NIM\"])\n",
        "print(\"Nama:\", mahasiswa_dict[\"Nama\"])\n",
        "print(\"Usia:\", mahasiswa_dict[\"Usia\"])"
      ]
    },
    {
      "cell_type": "code",
      "source": [
        "# Tuple\n",
        "mahasiswa = (\"123456\", \"John Doe\", 21)\n",
        "\n",
        "# Mengakses elemen Tuple\n",
        "nim = mahasiswa[0]\n",
        "nama = mahasiswa[1]\n",
        "usia = mahasiswa[2]\n",
        "\n",
        "# Menampilkan informasi mahasiswa\n",
        "print(\"Data Mahasiswa:\")\n",
        "print(\"NIM:\", nim)\n",
        "print(\"Nama:\", nama)\n",
        "print(\"Usia:\", usia)\n"
      ],
      "metadata": {
        "colab": {
          "base_uri": "https://localhost:8080/"
        },
        "id": "xJGo6cSEqGzb",
        "outputId": "1b557787-e7c2-4e35-cf82-b867345421e7"
      },
      "execution_count": 2,
      "outputs": [
        {
          "output_type": "stream",
          "name": "stdout",
          "text": [
            "Data Mahasiswa:\n",
            "NIM: 123456\n",
            "Nama: John Doe\n",
            "Usia: 21\n"
          ]
        }
      ]
    },
    {
      "cell_type": "code",
      "source": [
        "# Dictionary\n",
        "mahasiswa_dict = {\"NIM\": \"123456\", \"Nama\": \"John Doe\", \"Usia\": 21}\n",
        "\n",
        "# Mengakses nilai Dictionary\n",
        "nim_dict = mahasiswa_dict[\"NIM\"]\n",
        "nama_dict = mahasiswa_dict[\"Nama\"]\n",
        "usia_dict = mahasiswa_dict[\"Usia\"]\n",
        "\n",
        "# Menampilkan informasi mahasiswa dari Dictionary\n",
        "print(\"\\nData Mahasiswa (Dictionary):\")\n",
        "print(\"NIM:\", nim_dict)\n",
        "print(\"Nama:\", nama_dict)\n",
        "print(\"Usia:\", usia_dict)"
      ],
      "metadata": {
        "colab": {
          "base_uri": "https://localhost:8080/"
        },
        "id": "kqE5j0_qqRq6",
        "outputId": "541f393f-a151-40e4-ef40-b1dd8173bac2"
      },
      "execution_count": 3,
      "outputs": [
        {
          "output_type": "stream",
          "name": "stdout",
          "text": [
            "\n",
            "Data Mahasiswa (Dictionary):\n",
            "NIM: 123456\n",
            "Nama: John Doe\n",
            "Usia: 21\n"
          ]
        }
      ]
    }
  ]
}